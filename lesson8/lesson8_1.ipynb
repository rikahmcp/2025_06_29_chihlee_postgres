{
 "cells": [
  {
   "cell_type": "code",
   "execution_count": 1,
   "id": "3cb6e2d4",
   "metadata": {},
   "outputs": [
    {
     "name": "stdout",
     "output_type": "stream",
     "text": [
      "SELECT \"stationCode\",name,\"stationAddrTw\",日期,進站人數,出站人數\n",
      "FROM \"台鐵車站資訊\" LEFT JOIN \"每日各站進出站人數\" ON \"stationCode\" = \"車站代碼\"\n",
      "WHERE \"stationAddrTw\" LIKE '%臺北市%';\n"
     ]
    }
   ],
   "source": [
    "sql = \"\"\"SELECT \"stationCode\",name,\"stationAddrTw\",日期,進站人數,出站人數\n",
    "FROM \"台鐵車站資訊\" LEFT JOIN \"每日各站進出站人數\" ON \"stationCode\" = \"車站代碼\"\n",
    "WHERE \"stationAddrTw\" LIKE '%臺北市%';\"\"\"\n",
    "\n",
    "print(sql)"
   ]
  },
  {
   "cell_type": "code",
   "execution_count": 2,
   "id": "ea1ea000",
   "metadata": {},
   "outputs": [
    {
     "name": "stdout",
     "output_type": "stream",
     "text": [
      "<class 'int'>\n",
      "<class 'float'>\n",
      "<class 'str'>\n",
      "===========\n",
      "10\n",
      "15.0\n",
      "50\n"
     ]
    }
   ],
   "source": [
    "#建立變數\n",
    "n = 5\n",
    "m = 10.0\n",
    "x = '5'\n",
    "print(type(n))\n",
    "print(type(m))\n",
    "print(type(x))\n",
    "\n",
    "print(\"===========\")\n",
    "\n",
    "n = 10\n",
    "m = 15.0\n",
    "x = '50'\n",
    "print(n)\n",
    "print(m)\n",
    "print(x)"
   ]
  },
  {
   "cell_type": "code",
   "execution_count": null,
   "id": "7881de15",
   "metadata": {},
   "outputs": [
    {
     "name": "stdout",
     "output_type": "stream",
     "text": [
      "(87, 76, 65, 78, 92)\n",
      "<class 'tuple'>\n"
     ]
    },
    {
     "data": {
      "text/plain": [
       "87"
      ]
     },
     "execution_count": 8,
     "metadata": {},
     "output_type": "execute_result"
    }
   ],
   "source": [
    "#建立tuple\n",
    "student1 = (87, 76, 65, 78, 92)  #Sequence(串列資料)\n",
    "print(student1)\n",
    "print(type(student1))\n",
    "\n",
    "#使用subscript取出元素值\n",
    "student1[0]"
   ]
  },
  {
   "cell_type": "code",
   "execution_count": null,
   "id": "b3520504",
   "metadata": {},
   "outputs": [
    {
     "name": "stdout",
     "output_type": "stream",
     "text": [
      "[87, 76, 65, 78, 92]\n",
      "<class 'list'>\n"
     ]
    },
    {
     "data": {
      "text/plain": [
       "92"
      ]
     },
     "execution_count": 9,
     "metadata": {},
     "output_type": "execute_result"
    }
   ],
   "source": [
    "#建立list\n",
    "student2 = [87, 76, 65, 78, 92]  #Sequence(序列資料)\n",
    "print(student2)\n",
    "print(type(student2))\n",
    "\n",
    "#使用subscript取出元素值\n",
    "student2[0]\n",
    "student2[1]\n",
    "student2[2]\n",
    "student2[3]\n",
    "student2[4]\n",
    "#student2[5] # 超出索引會出錯"
   ]
  },
  {
   "cell_type": "code",
   "execution_count": null,
   "id": "d9c96a19",
   "metadata": {},
   "outputs": [
    {
     "name": "stdout",
     "output_type": "stream",
     "text": [
      "89\n",
      "87\n"
     ]
    }
   ],
   "source": [
    "#建立dict(dictionary)\n",
    "student3 = {'chinese':67,'english':75,'math':89,'history':87,'discovery':92} #mapping(映射資料)\n",
    "type(student3)\n",
    "#使用subscript取出值\n",
    "print(student3['math'])\n",
    "print(student3['history'])"
   ]
  },
  {
   "cell_type": "code",
   "execution_count": 11,
   "id": "866aae19",
   "metadata": {},
   "outputs": [
    {
     "name": "stdout",
     "output_type": "stream",
     "text": [
      "78\n",
      "92\n"
     ]
    }
   ],
   "source": [
    "#tuple的拆解法\n",
    "m, n = 78, 92\n",
    "print(m)\n",
    "print(n)"
   ]
  },
  {
   "cell_type": "code",
   "execution_count": 12,
   "id": "3ee4f599",
   "metadata": {},
   "outputs": [
    {
     "name": "stdout",
     "output_type": "stream",
     "text": [
      "87\n",
      "89\n"
     ]
    }
   ],
   "source": [
    "#建立4個list放入學生成績\n",
    "student1 = [87, 76, 65, 78, 92]  #Sequence(序列資料)\n",
    "student2 = [88, 77, 66, 79, 93]\n",
    "student3 = [89, 78, 67, 80, 94]\n",
    "student4 = [90, 79, 68, 81, 95]\n",
    "#建立4個dict放入學生的科目和成績\n",
    "student5 = {'chinese':87,'english':76,'math':65,'history':78,'discovery':92} #mapping(映射資料)\n",
    "student6 = {'chinese':88,'english':77,'math':66,'history':79,'discovery':93}\n",
    "student7 = {'chinese':89,'english':78,'math':67,'history':80,'discovery':94}\n",
    "student8 = {'chinese':90,'english':79,'math':68,'history':81,'discovery':95} #mapping(映射資料)\n",
    "\n",
    "#建立students的list,包含4個學生的dict\n",
    "students = [student5, student6, student7, student8] #Sequence(序列資料)\n",
    "students\n",
    "\n",
    "print(students[0]['chinese'])\n",
    "print(students[2]['chinese'])"
   ]
  }
 ],
 "metadata": {
  "kernelspec": {
   "display_name": "pydev",
   "language": "python",
   "name": "python3"
  },
  "language_info": {
   "codemirror_mode": {
    "name": "ipython",
    "version": 3
   },
   "file_extension": ".py",
   "mimetype": "text/x-python",
   "name": "python",
   "nbconvert_exporter": "python",
   "pygments_lexer": "ipython3",
   "version": "3.10.18"
  }
 },
 "nbformat": 4,
 "nbformat_minor": 5
}
