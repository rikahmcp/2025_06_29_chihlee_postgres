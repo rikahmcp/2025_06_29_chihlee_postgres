{
 "cells": [
  {
   "cell_type": "markdown",
   "id": "127a09b1",
   "metadata": {},
   "source": [
    "### 這是python基礎課程\n",
    "- python基本資料型別"
   ]
  },
  {
   "cell_type": "code",
   "execution_count": null,
   "id": "bc7f188d",
   "metadata": {},
   "outputs": [
    {
     "name": "stdout",
     "output_type": "stream",
     "text": [
      "Hello! Python!\n",
      "以下是python的基本資料類型(int,float,str,bool)\n"
     ]
    },
    {
     "data": {
      "text/plain": [
       "False"
      ]
     },
     "execution_count": 1,
     "metadata": {},
     "output_type": "execute_result"
    }
   ],
   "source": [
    "print(\"Hello! Python!\")\n",
    "print(\"以下是python的基本資料類型(int,float,str,bool)\")\n",
    "print(15) #整數,(int)\n",
    "print(15.0) #浮點數,(float)\n",
    "print(\"15.0\") #字串,(str)\n",
    "print('15.0') #字串,(str)\n",
    "print(True) #布林值,(bool)\n",
    "print(False) #布林值,(bool)"
   ]
  }
 ],
 "metadata": {
  "kernelspec": {
   "display_name": "pydev",
   "language": "python",
   "name": "python3"
  },
  "language_info": {
   "codemirror_mode": {
    "name": "ipython",
    "version": 3
   },
   "file_extension": ".py",
   "mimetype": "text/x-python",
   "name": "python",
   "nbconvert_exporter": "python",
   "pygments_lexer": "ipython3",
   "version": "3.10.18"
  }
 },
 "nbformat": 4,
 "nbformat_minor": 5
}
